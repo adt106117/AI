{
 "cells": [
  {
   "cell_type": "code",
   "execution_count": 2,
   "metadata": {},
   "outputs": [],
   "source": [
    "import cv2#載入分類器\n",
    "\n",
    "face_cascade = cv2.CascadeClassifier('haarcascade_frontalface_default.xml')\n",
    "#從視訊鏡頭擷取影片\n",
    "cap = cv2.VideoCapture(0)\n",
    "while True:\n",
    "    #Read the frame\n",
    "    _, img = cap.read()\n",
    "    #轉成灰階\n",
    "    gray = cv2.cvtColor(img,cv2.COLOR_BGR2GRAY)\n",
    "    #偵測臉部\n",
    "    faces = face_cascade.detectMultiScale(gray,1.1,4)\n",
    "    i=1\n",
    "    #繪製人臉部分的方塊\n",
    "    for(x,y,w,h) in faces:\n",
    "        cv2.rectangle(img,(x,y),(x+w,y+h),(0,255,0),2)\n",
    "        crop_img=img[y:y+h,x:x+w]\n",
    "        cv2.imwrite(\"people\"+str(i)+\".png\",crop_img)\n",
    "        i=i+1\n",
    "        #顯示成果\n",
    "        \n",
    "    cv2.namedWindow('img',cv2.WINDOW_NORMAL)\n",
    "    cv2.imshow('img',img)\n",
    "    if cv2.waitKey(30)==ord('s'):\n",
    "        cv2.imwrite(\"capture.png\",img)\n",
    "    if cv2.waitKey(30)==ord('q'):\n",
    "        break\n",
    "cap.release()\n",
    "cv2.destroyAllWindows()"
   ]
  },
  {
   "cell_type": "code",
   "execution_count": null,
   "metadata": {},
   "outputs": [],
   "source": []
  }
 ],
 "metadata": {
  "kernelspec": {
   "display_name": "Python 3",
   "language": "python",
   "name": "python3"
  },
  "language_info": {
   "codemirror_mode": {
    "name": "ipython",
    "version": 3
   },
   "file_extension": ".py",
   "mimetype": "text/x-python",
   "name": "python",
   "nbconvert_exporter": "python",
   "pygments_lexer": "ipython3",
   "version": "3.7.0"
  }
 },
 "nbformat": 4,
 "nbformat_minor": 2
}
