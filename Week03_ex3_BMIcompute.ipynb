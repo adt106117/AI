{
 "cells": [
  {
   "cell_type": "code",
   "execution_count": 3,
   "metadata": {},
   "outputs": [
    {
     "name": "stdout",
     "output_type": "stream",
     "text": [
      "請輸入身高(Cm):180\n",
      "請輸入體重(Kg):60\n",
      "MBI = 18.518519\n",
      "\n",
      "Nice Body!\n"
     ]
    }
   ],
   "source": [
    "BMI=0\n",
    "height=int (input(\"請輸入身高(Cm):\"))\n",
    "weight=int (input(\"請輸入體重(Kg):\"))\n",
    "BMI= (weight) / ((height/100)*(height/100))\n",
    "\n",
    "print(\"MBI = %f\\n\" %(BMI))\n",
    "\n",
    "if BMI < 18.5:\n",
    "    print(\"你484紙片人\")\n",
    "if BMI >=18.5 and BMI <24:\n",
    "    print(\"Nice Body!\")\n",
    "if BMI >= 24:\n",
    "    print(\"你該少吃點了\")"
   ]
  }
 ],
 "metadata": {
  "kernelspec": {
   "display_name": "Python 3",
   "language": "python",
   "name": "python3"
  },
  "language_info": {
   "codemirror_mode": {
    "name": "ipython",
    "version": 3
   },
   "file_extension": ".py",
   "mimetype": "text/x-python",
   "name": "python",
   "nbconvert_exporter": "python",
   "pygments_lexer": "ipython3",
   "version": "3.5.0"
  }
 },
 "nbformat": 4,
 "nbformat_minor": 2
}
